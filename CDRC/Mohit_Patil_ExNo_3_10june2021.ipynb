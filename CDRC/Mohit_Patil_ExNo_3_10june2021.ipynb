{
 "cells": [
  {
   "cell_type": "code",
   "execution_count": 10,
   "id": "f97a6336",
   "metadata": {},
   "outputs": [
    {
     "name": "stdout",
     "output_type": "stream",
     "text": [
      "   Gaussian Rand No Set 1\n",
      "0                0.036740\n",
      "1                0.501186\n",
      "2                0.118338\n",
      "3                0.452479\n",
      "4                0.464493\n",
      "Contents of the DataFrame:\n",
      "      Gaussian Rand No Set 1\n",
      "0                   0.036740\n",
      "1                   0.501186\n",
      "2                   0.118338\n",
      "3                   0.452479\n",
      "4                   0.464493\n",
      "...                      ...\n",
      "8255                0.189645\n",
      "8256                0.380077\n",
      "8257                0.637419\n",
      "8258                0.413127\n",
      "8259                0.628951\n",
      "\n",
      "[8260 rows x 1 columns]\n",
      "<class 'numpy.ndarray'>\n",
      "[[0.03673973]\n",
      " [0.50118565]\n",
      " [0.11833781]\n",
      " ...\n",
      " [0.63741916]\n",
      " [0.41312656]\n",
      " [0.62895089]]\n"
     ]
    }
   ],
   "source": [
    "#Using Pandas \n",
    "import pandas as pd\n",
    "#Read Csv file using Pandas\n",
    "df = pd.read_csv(r\"Gaussian Random number 8260 - Sheet1.csv\")\n",
    "print(df.head())\n",
    "# Create a DataFrame       \n",
    "dataFrame = pd.DataFrame(df);\n",
    "print(\"Contents of the DataFrame:\");\n",
    "print(dataFrame);\n",
    "np=dataFrame.to_numpy()\n",
    "print(type(np))\n",
    "print(np)"
   ]
  },
  {
   "cell_type": "code",
   "execution_count": null,
   "id": "2a95672e",
   "metadata": {},
   "outputs": [],
   "source": [
    "2+"
   ]
  }
 ],
 "metadata": {
  "kernelspec": {
   "display_name": "Python 3",
   "language": "python",
   "name": "python3"
  },
  "language_info": {
   "codemirror_mode": {
    "name": "ipython",
    "version": 3
   },
   "file_extension": ".py",
   "mimetype": "text/x-python",
   "name": "python",
   "nbconvert_exporter": "python",
   "pygments_lexer": "ipython3",
   "version": "3.8.8"
  }
 },
 "nbformat": 4,
 "nbformat_minor": 5
}
